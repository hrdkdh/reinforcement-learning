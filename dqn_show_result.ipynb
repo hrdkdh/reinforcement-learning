{
 "cells": [
  {
   "cell_type": "code",
   "execution_count": null,
   "metadata": {},
   "outputs": [],
   "source": [
    "import time\n",
    "import matplotlib.pyplot as plt\n",
    "import pandas as pd\n",
    "\n",
    "from IPython.display import clear_output\n",
    "\n",
    "done = False\n",
    "i = 0\n",
    "while done is False:\n",
    "    i += 1\n",
    "    clear_output()\n",
    "    try:\n",
    "        df = pd.read_excel(\"result.xlsx\")\n",
    "    except:\n",
    "        time.sleep(5)\n",
    "        df = pd.read_excel(\"result.xlsx\")\n",
    "    finally:\n",
    "        df = df[:]\n",
    "        width = int(len(df)*0.05)\n",
    "        if width < 20:\n",
    "            width = 20\n",
    "\n",
    "        plt.figure(figsize=(width, 6))\n",
    "        plt.bar(df[\"EPISODE\"], df[\"수익율\"]-1)\n",
    "        plt.show()\n",
    "\n",
    "        plt.figure(figsize=(width, 6))\n",
    "        plt.bar(df[\"EPISODE\"], df[\"최고수익율\"]-1)\n",
    "        plt.show()\n",
    "\n",
    "        # plt.figure(figsize=(width, 6))\n",
    "        # plt.bar(df[\"EPISODE\"], df[\"MAX. STATE\"])\n",
    "        # plt.show()\n",
    "        # time.sleep(60)\n",
    "        break\n",
    "    if i > 100:\n",
    "        break"
   ]
  },
  {
   "cell_type": "code",
   "execution_count": null,
   "metadata": {},
   "outputs": [],
   "source": [
    "import pandas as pd\n",
    "df = pd.read_excel(\"result.xlsx\")\n",
    "df"
   ]
  },
  {
   "cell_type": "code",
   "execution_count": null,
   "metadata": {},
   "outputs": [],
   "source": [
    "import numpy as np\n",
    "import matplotlib.pyplot as plt\n",
    "episodes = 1000\n",
    "result = []\n",
    "for episode in range(episodes):\n",
    "    e = 1. / (((episode*4) / 100) + 1)\n",
    "    result.append(e)\n",
    "plt.plot(result)"
   ]
  }
 ],
 "metadata": {
  "interpreter": {
   "hash": "b7a7bb2146cf65036a79a4203af85978b0eb33cfe0557d851315c35cdd55f817"
  },
  "kernelspec": {
   "display_name": "Python 3.8.10 ('venv_tf')",
   "language": "python",
   "name": "python3"
  },
  "language_info": {
   "codemirror_mode": {
    "name": "ipython",
    "version": 3
   },
   "file_extension": ".py",
   "mimetype": "text/x-python",
   "name": "python",
   "nbconvert_exporter": "python",
   "pygments_lexer": "ipython3",
   "version": "3.8.10"
  },
  "orig_nbformat": 4
 },
 "nbformat": 4,
 "nbformat_minor": 2
}
