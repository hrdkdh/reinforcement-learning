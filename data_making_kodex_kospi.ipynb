{
 "cells": [
  {
   "cell_type": "code",
   "execution_count": 1,
   "metadata": {},
   "outputs": [],
   "source": [
    "import json\n",
    "import datetime\n",
    "import requests\n",
    "import pandas as pd\n",
    "\n",
    "# 팍스넷에서 데이터 주어옴. http://www.paxnet.co.kr/stock/analysis/chart?abbrSymbol=114800\n",
    "\n",
    "# stock_no = \"226490\"\n",
    "# file_name = \"data_kodex_kospi\"\n",
    "# rename_prefix = \"KDX\"\n",
    "\n",
    "stock_no = \"114800\"\n",
    "file_name = \"data_kodex_kospi_inverse\"\n",
    "rename_prefix = \"KDI\"\n",
    "\n",
    "url = \"http://www.paxnet.co.kr/stock/analysis/chart?abbrSymbol={}\".format(stock_no)\n",
    "res = requests.get(url)\n",
    "result = res.text.split(\"var sise60minJson = \\'\")[1].split(\"\\';\\r\\n \\t\")[0]\n",
    "json_res = json.loads(result)\n",
    "df_src = pd.DataFrame(json_res[\"body\"][\"chartDataList\"])"
   ]
  },
  {
   "cell_type": "code",
   "execution_count": 2,
   "metadata": {},
   "outputs": [],
   "source": [
    "df = df_src.copy()\n",
    "date_list = [str(datetime.datetime.fromtimestamp(x)).split(\" \")[0] for x in df[\"tradeDt\"]]\n",
    "time_list = [str(datetime.datetime.fromtimestamp(x)).split(\" \")[1].split(\":\")[0] for x in df[\"tradeDt\"]]\n",
    "df[\"date\"] = date_list\n",
    "df[\"time\"] = time_list\n",
    "df[\"datetime\"] = df[\"date\"].str.replace(\"-\", \"\") + df[\"time\"]\n",
    "df = df[['date', 'time', 'datetime', 'openPrice', 'closePrice', 'highPrice', 'lowPrice', 'volume']]\n",
    "df.rename(columns={\n",
    "    \"date\" : \"DATE\",\n",
    "    \"time\" : \"TIME\",\n",
    "    \"datetime\" : \"DATETIME\",    \n",
    "    \"openPrice\" : \"{}_OPN\".format(rename_prefix),\n",
    "    \"closePrice\" : \"{}_CLS\".format(rename_prefix),\n",
    "    \"highPrice\" : \"{}_HIGH\".format(rename_prefix),\n",
    "    \"lowPrice\" : \"{}_LOW\".format(rename_prefix),\n",
    "    \"volume\" : \"{}_VOL\".format(rename_prefix)\n",
    "}, inplace=True)\n",
    "\n",
    "df_old = pd.read_excel(\"{}.xlsx\".format(file_name))\n",
    "df_new = pd.concat([df_old, df], axis=0, ignore_index=True)\n",
    "df_new[\"DATETIME_INT\"] = df_new[\"DATETIME\"].astype(\"int\")\n",
    "df_new.drop_duplicates([\"DATETIME_INT\"], inplace=True)\n",
    "df_new.drop(columns=[\"DATETIME_INT\"], inplace=True)\n",
    "df_new.reset_index(drop=True, inplace=True)\n",
    "df_new.to_excel(\"{}.xlsx\".format(file_name), index=False)\n"
   ]
  }
 ],
 "metadata": {
  "interpreter": {
   "hash": "aaf533d5ae3a3d7a7fcdd7d995dbe2f3fcb3d854cc4805079aca601e58923c31"
  },
  "kernelspec": {
   "display_name": "Python 3.9.10 ('venv_tf_3.9')",
   "language": "python",
   "name": "python3"
  },
  "language_info": {
   "codemirror_mode": {
    "name": "ipython",
    "version": 3
   },
   "file_extension": ".py",
   "mimetype": "text/x-python",
   "name": "python",
   "nbconvert_exporter": "python",
   "pygments_lexer": "ipython3",
   "version": "3.9.10"
  },
  "orig_nbformat": 4
 },
 "nbformat": 4,
 "nbformat_minor": 2
}
