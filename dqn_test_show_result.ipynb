{
 "cells": [
  {
   "cell_type": "code",
   "execution_count": 3,
   "metadata": {},
   "outputs": [
    {
     "data": {
      "image/png": "[encoded data removed]",
      "text/plain": [
       "<Figure size 1440x432 with 1 Axes>"
      ]
     },
     "metadata": {
      "needs_background": "light"
     },
     "output_type": "display_data"
    },
    {
     "data": {
      "image/png": "[encoded data removed]",
      "text/plain": [
       "<Figure size 1440x432 with 1 Axes>"
      ]
     },
     "metadata": {
      "needs_background": "light"
     },
     "output_type": "display_data"
    }
   ],
   "source": [
    "import time\n",
    "import matplotlib.pyplot as plt\n",
    "import pandas as pd\n",
    "\n",
    "from IPython.display import clear_output\n",
    "\n",
    "done = False\n",
    "i = 0\n",
    "while done is False:\n",
    "    i += 1\n",
    "    clear_output()\n",
    "    try:\n",
    "        df = pd.read_excel(\"result.xlsx\")\n",
    "    except:\n",
    "        time.sleep(5)\n",
    "        df = pd.read_excel(\"result.xlsx\")\n",
    "    finally:\n",
    "        df = df[:]\n",
    "        plt.figure(figsize=(20, 6))\n",
    "        plt.bar(df[\"EPISODE\"], df[\"수익율\"]-1)\n",
    "        plt.show()\n",
    "\n",
    "        plt.figure(figsize=(20, 6))\n",
    "        plt.bar(df[\"EPISODE\"], df[\"MAX. STATE\"])\n",
    "        plt.show()\n",
    "        time.sleep(120)\n",
    "    if i > 100:\n",
    "        break"
   ]
  },
  {
   "cell_type": "code",
   "execution_count": 4,
   "metadata": {},
   "outputs": [
    {
     "data": {
      "text/html": [
       "<div>\n",
       "<style scoped>\n",
       "    .dataframe tbody tr th:only-of-type {\n",
       "        vertical-align: middle;\n",
       "    }\n",
       "\n",
       "    .dataframe tbody tr th {\n",
       "        vertical-align: top;\n",
       "    }\n",
       "\n",
       "    .dataframe thead th {\n",
       "        text-align: right;\n",
       "    }\n",
       "</style>\n",
       "<table border=\"1\" class=\"dataframe\">\n",
       "  <thead>\n",
       "    <tr style=\"text-align: right;\">\n",
       "      <th></th>\n",
       "      <th>EPISODE</th>\n",
       "      <th>MAX. STATE</th>\n",
       "      <th>잔고</th>\n",
       "      <th>수익</th>\n",
       "      <th>수익율</th>\n",
       "    </tr>\n",
       "  </thead>\n",
       "  <tbody>\n",
       "    <tr>\n",
       "      <th>0</th>\n",
       "      <td>1</td>\n",
       "      <td>0</td>\n",
       "      <td>9698140</td>\n",
       "      <td>-301860</td>\n",
       "      <td>0.969814</td>\n",
       "    </tr>\n",
       "    <tr>\n",
       "      <th>1</th>\n",
       "      <td>2</td>\n",
       "      <td>1</td>\n",
       "      <td>10156705</td>\n",
       "      <td>156705</td>\n",
       "      <td>1.015670</td>\n",
       "    </tr>\n",
       "    <tr>\n",
       "      <th>2</th>\n",
       "      <td>3</td>\n",
       "      <td>0</td>\n",
       "      <td>9698140</td>\n",
       "      <td>-301860</td>\n",
       "      <td>0.969814</td>\n",
       "    </tr>\n",
       "    <tr>\n",
       "      <th>3</th>\n",
       "      <td>4</td>\n",
       "      <td>3</td>\n",
       "      <td>10123035</td>\n",
       "      <td>123035</td>\n",
       "      <td>1.012304</td>\n",
       "    </tr>\n",
       "    <tr>\n",
       "      <th>4</th>\n",
       "      <td>5</td>\n",
       "      <td>3</td>\n",
       "      <td>10216645</td>\n",
       "      <td>216645</td>\n",
       "      <td>1.021664</td>\n",
       "    </tr>\n",
       "    <tr>\n",
       "      <th>...</th>\n",
       "      <td>...</td>\n",
       "      <td>...</td>\n",
       "      <td>...</td>\n",
       "      <td>...</td>\n",
       "      <td>...</td>\n",
       "    </tr>\n",
       "    <tr>\n",
       "      <th>3995</th>\n",
       "      <td>3996</td>\n",
       "      <td>1</td>\n",
       "      <td>10156705</td>\n",
       "      <td>156705</td>\n",
       "      <td>1.015670</td>\n",
       "    </tr>\n",
       "    <tr>\n",
       "      <th>3996</th>\n",
       "      <td>3997</td>\n",
       "      <td>1</td>\n",
       "      <td>10156705</td>\n",
       "      <td>156705</td>\n",
       "      <td>1.015670</td>\n",
       "    </tr>\n",
       "    <tr>\n",
       "      <th>3997</th>\n",
       "      <td>3998</td>\n",
       "      <td>1</td>\n",
       "      <td>10156705</td>\n",
       "      <td>156705</td>\n",
       "      <td>1.015670</td>\n",
       "    </tr>\n",
       "    <tr>\n",
       "      <th>3998</th>\n",
       "      <td>3999</td>\n",
       "      <td>1</td>\n",
       "      <td>10156705</td>\n",
       "      <td>156705</td>\n",
       "      <td>1.015670</td>\n",
       "    </tr>\n",
       "    <tr>\n",
       "      <th>3999</th>\n",
       "      <td>4000</td>\n",
       "      <td>1</td>\n",
       "      <td>10156705</td>\n",
       "      <td>156705</td>\n",
       "      <td>1.015670</td>\n",
       "    </tr>\n",
       "  </tbody>\n",
       "</table>\n",
       "<p>4000 rows × 5 columns</p>\n",
       "</div>"
      ],
      "text/plain": [
       "      EPISODE  MAX. STATE        잔고      수익       수익율\n",
       "0           1           0   9698140 -301860  0.969814\n",
       "1           2           1  10156705  156705  1.015670\n",
       "2           3           0   9698140 -301860  0.969814\n",
       "3           4           3  10123035  123035  1.012304\n",
       "4           5           3  10216645  216645  1.021664\n",
       "...       ...         ...       ...     ...       ...\n",
       "3995     3996           1  10156705  156705  1.015670\n",
       "3996     3997           1  10156705  156705  1.015670\n",
       "3997     3998           1  10156705  156705  1.015670\n",
       "3998     3999           1  10156705  156705  1.015670\n",
       "3999     4000           1  10156705  156705  1.015670\n",
       "\n",
       "[4000 rows x 5 columns]"
      ]
     },
     "execution_count": 4,
     "metadata": {},
     "output_type": "execute_result"
    }
   ],
   "source": [
    "import pandas as pd\n",
    "df = pd.read_excel(\"result.xlsx\")\n",
    "df"
   ]
  }
 ],
 "metadata": {
  "interpreter": {
   "hash": "aaf533d5ae3a3d7a7fcdd7d995dbe2f3fcb3d854cc4805079aca601e58923c31"
  },
  "kernelspec": {
   "display_name": "Python 3.9.10 ('venv_tf_3.9')",
   "language": "python",
   "name": "python3"
  },
  "language_info": {
   "codemirror_mode": {
    "name": "ipython",
    "version": 3
   },
   "file_extension": ".py",
   "mimetype": "text/x-python",
   "name": "python",
   "nbconvert_exporter": "python",
   "pygments_lexer": "ipython3",
   "version": "3.8.10"
  },
  "orig_nbformat": 4
 },
 "nbformat": 4,
 "nbformat_minor": 2
}
