{
 "cells": [
  {
   "cell_type": "code",
   "execution_count": null,
   "metadata": {},
   "outputs": [
    {
     "ename": "",
     "evalue": "",
     "output_type": "error",
     "traceback": [
      "\u001b[1;31mFailed to start the Kernel. \n",
      "The 'python3910jvsc74a57bd0aaf533d5ae3a3d7a7fcdd7d995dbe2f3fcb3d854cc4805079aca601e58923c31' kernel is not available. Please pick another suitable kernel instead, or install that kernel. \n",
      "View Jupyter <a href='command:jupyter.viewOutput'>log</a> for further details."
     ]
    }
   ],
   "source": [
    "import time\n",
    "import matplotlib.pyplot as plt\n",
    "import pandas as pd\n",
    "\n",
    "from IPython.display import clear_output\n",
    "\n",
    "done = False\n",
    "i = 0\n",
    "while done is False:\n",
    "    i += 1\n",
    "    clear_output()\n",
    "    try:\n",
    "        df = pd.read_excel(\"result.xlsx\")\n",
    "    except:\n",
    "        time.sleep(5)\n",
    "        df = pd.read_excel(\"result.xlsx\")\n",
    "    finally:\n",
    "        df = df[:]\n",
    "        width = int(len(df)*0.05)\n",
    "        if width < 20:\n",
    "            width = 20\n",
    "\n",
    "        plt.figure(figsize=(width, 6))\n",
    "        plt.bar(df[\"EPISODE\"], df[\"수익율\"]-1)\n",
    "        plt.show()\n",
    "\n",
    "        plt.figure(figsize=(width, 6))\n",
    "        plt.bar(df[\"EPISODE\"], df[\"최고수익율\"]-1)\n",
    "        plt.show()\n",
    "\n",
    "        # plt.figure(figsize=(width, 6))\n",
    "        # plt.bar(df[\"EPISODE\"], df[\"MAX. STATE\"])\n",
    "        # plt.show()\n",
    "        # time.sleep(60)\n",
    "        break\n",
    "    if i > 100:\n",
    "        break"
   ]
  },
  {
   "cell_type": "code",
   "execution_count": null,
   "metadata": {},
   "outputs": [],
   "source": [
    "import pandas as pd\n",
    "df = pd.read_excel(\"result.xlsx\")\n",
    "df"
   ]
  },
  {
   "cell_type": "code",
   "execution_count": null,
   "metadata": {},
   "outputs": [],
   "source": [
    "import numpy as np\n",
    "import matplotlib.pyplot as plt\n",
    "episodes = 1000\n",
    "result = []\n",
    "for episode in range(episodes):\n",
    "    e = 1. / (((episode*4) / 100) + 1)\n",
    "    result.append(e)\n",
    "plt.plot(result)"
   ]
  }
 ],
 "metadata": {
  "interpreter": {
   "hash": "aaf533d5ae3a3d7a7fcdd7d995dbe2f3fcb3d854cc4805079aca601e58923c31"
  },
  "kernelspec": {
   "display_name": "Python 3.9.10 ('venv_tf_3.9')",
   "language": "python",
   "name": "python3"
  },
  "language_info": {
   "codemirror_mode": {
    "name": "ipython",
    "version": 3
   },
   "file_extension": ".py",
   "mimetype": "text/x-python",
   "name": "python",
   "nbconvert_exporter": "python",
   "pygments_lexer": "ipython3",
   "version": "3.9.10"
  },
  "orig_nbformat": 4
 },
 "nbformat": 4,
 "nbformat_minor": 2
}
