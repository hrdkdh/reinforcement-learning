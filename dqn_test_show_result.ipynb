{
 "cells": [
  {
   "cell_type": "code",
   "execution_count": 2,
   "metadata": {},
   "outputs": [],
   "source": [
    "import time\n",
    "import matplotlib.pyplot as plt\n",
    "import pandas as pd\n",
    "\n",
    "from IPython.display import clear_output\n",
    "\n",
    "while True:\n",
    "    clear_output()\n",
    "    try:\n",
    "        df = pd.read_excel(\"result.xlsx\")\n",
    "    except:\n",
    "        time.sleep(5)\n",
    "        df = pd.read_excel(\"result.xlsx\")\n",
    "    finally:\n",
    "        df = df[:]\n",
    "        plt.figure(figsize=(20, 6))\n",
    "        plt.bar(df[\"EPISODE\"], df[\"수익율\"]-1)\n",
    "        plt.show()\n",
    "\n",
    "        plt.figure(figsize=(20, 6))\n",
    "        plt.bar(df[\"EPISODE\"], df[\"MAX. STATE\"])\n",
    "        plt.show()\n",
    "        time.sleep(120)"
   ]
  },
  {
   "cell_type": "code",
   "execution_count": null,
   "metadata": {},
   "outputs": [],
   "source": [
    "import pandas as pd\n",
    "df = pd.read_excel(\"result.xlsx\")\n",
    "df"
   ]
  }
 ],
 "metadata": {
  "interpreter": {
   "hash": "aaf533d5ae3a3d7a7fcdd7d995dbe2f3fcb3d854cc4805079aca601e58923c31"
  },
  "kernelspec": {
   "display_name": "Python 3.9.10 ('venv_tf_3.9')",
   "language": "python",
   "name": "python3"
  },
  "language_info": {
   "codemirror_mode": {
    "name": "ipython",
    "version": 3
   },
   "file_extension": ".py",
   "mimetype": "text/x-python",
   "name": "python",
   "nbconvert_exporter": "python",
   "pygments_lexer": "ipython3",
   "version": "3.8.10"
  },
  "orig_nbformat": 4
 },
 "nbformat": 4,
 "nbformat_minor": 2
}
